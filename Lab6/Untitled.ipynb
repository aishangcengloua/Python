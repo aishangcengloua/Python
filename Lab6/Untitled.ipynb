{
 "cells": [
  {
   "cell_type": "code",
   "execution_count": 27,
   "id": "d850ae63",
   "metadata": {},
   "outputs": [
    {
     "name": "stdout",
     "output_type": "stream",
     "text": [
      "Using matplotlib backend: Qt5Agg\n"
     ]
    }
   ],
   "source": [
    "import matplotlib.pyplot as plt\n",
    "import numpy as np\n",
    "%matplotlib\n",
    "\n",
    "Tom = np.array([80, 92, 75])\n",
    "Lily = np.array([96, 88, 75])\n",
    "Neki = np.array([90, 96, 85])\n",
    "labels = ['Science', 'Math', 'English']\n",
    "x = np.arange(3)\n",
    "width = 0.2\n",
    "\n",
    "plt.subplot(221)\n",
    "plt.bar(x - width, Tom, width = 0.2, color = 'red', label = 'Tom')\n",
    "plt.bar(x, Lily, width = 0.2, color = 'green', label = 'Lily')\n",
    "plt.bar(x + width, Neki, width = 0.2, color = 'blue', label = 'Neki')\n",
    "plt.xticks(x, labels = labels)\n",
    "plt.legend()\n",
    "\n",
    "plt.subplot(222)\n",
    "plt.pie(Tom, labels = labels, startangle=150, autopct = '%.1f%%')\n",
    "\n",
    "plt.subplot(223)\n",
    "plt.pie(Lily, labels = labels, startangle=150, autopct = '%.1f%%')\n",
    "\n",
    "plt.subplot(224)\n",
    "plt.pie(Neki, labels = labels, startangle=150, autopct = '%.1f%%')\n",
    "plt.show()"
   ]
  },
  {
   "cell_type": "code",
   "execution_count": 33,
   "id": "dbb39881",
   "metadata": {},
   "outputs": [],
   "source": [
    "t = np.linspace(0, 2 * np.pi, 1000)\n",
    "x = np.cos(t)\n",
    "y = np.sin(t)\n",
    "plt.plot(x, y)\n",
    "plt.show()"
   ]
  },
  {
   "cell_type": "code",
   "execution_count": 46,
   "id": "74fe58e9",
   "metadata": {},
   "outputs": [],
   "source": [
    "plt.rcParams['font.sans-serif'] = ['Simhei']\n",
    "plt.rcParams['axes.unicode_minus'] = False\n",
    "x = np.arange(0, 5)\n",
    "y = np.sin(2 * x) * np.exp(-2 * x) + np.cos(2 * x)\n",
    "\n",
    "plt.subplot(131)\n",
    "plt.stem(x, y), plt.title('火柴图')\n",
    "plt.subplot(132)\n",
    "plt.step(x, y), plt.title('阶梯图')\n",
    "plt.subplot(133)\n",
    "plt.scatter(x, y), plt.title('散点图')\n",
    "\n",
    "plt.tight_layout()\n",
    "\n",
    "plt.show()"
   ]
  },
  {
   "cell_type": "code",
   "execution_count": 51,
   "id": "ed8bd2b1",
   "metadata": {},
   "outputs": [],
   "source": [
    "x = np.linspace(0, 50, 1000)\n",
    "y = x + np.cos(x)\n",
    "ylabels = [(x + np.cos(x)) for x in range(0, 51, 10)]\n",
    "\n",
    "plt.plot(x, y)\n",
    "plt.yticks(ylabels)\n",
    "plt.xlim(-10, 60)\n",
    "plt.show()"
   ]
  },
  {
   "cell_type": "code",
   "execution_count": 92,
   "id": "480d541c",
   "metadata": {},
   "outputs": [],
   "source": [
    "import pandas as pd \n",
    "\n",
    "data = pd.read_csv(\"Lab6.csv\")\n",
    "file.head(5)\n",
    "profit = np.array(data['total_profit'])\n",
    "plt.plot(np.arange(1, 13), profit, '--or', linewidth = 4, markersize = 8)\n",
    "plt.plot(np.arange(1, 13), profit, 'o', markersize = 5, color = 'black')\n",
    "plt.xticks(np.arange(1, 13))\n",
    "plt.yticks(np.arange(100000, 500001, 100000))\n",
    "plt.xlabel('Month Number')\n",
    "plt.ylabel('Sold units number')\n",
    "plt.title('Company Sales data of last year')\n",
    "plt.legend([ 'Profit data of last year'], loc = 4)\n",
    "plt.show()"
   ]
  },
  {
   "cell_type": "code",
   "execution_count": 97,
   "id": "abb524eb",
   "metadata": {},
   "outputs": [],
   "source": [
    "toothpaste = np.array(data[\"toothpaste\"])\n",
    "plt.scatter(np.arange(1, 13), toothpaste, label = 'Tooth paste Sales data')\n",
    "plt.xticks(np.arange(1, 13))\n",
    "plt.xlabel('Month Number')\n",
    "plt.ylabel('Number of units Sold')\n",
    "plt.title('Tooth paste Sales data')\n",
    "plt.grid(linestyle = '--')\n",
    "plt.legend()\n",
    "plt.show()"
   ]
  },
  {
   "cell_type": "code",
   "execution_count": 109,
   "id": "eafe4b51",
   "metadata": {},
   "outputs": [],
   "source": [
    "facecream = np.array(data[\"facecream\"])\n",
    "facewash = np.array(data[\"facewash\"])\n",
    "\n",
    "width = 0.2\n",
    "x = np.arange(1, len(facecream) + 1)\n",
    "\n",
    "plt.bar(x - width / 2, facecream, width = width)\n",
    "plt.bar(x + width / 2, facewash, width = width)\n",
    "plt.xticks(np.arange(1, len(facecream) + 1))\n",
    "plt.xlabel('Month Number')\n",
    "plt.ylabel('Sales units in number')\n",
    "plt.title('Facecream and Facewash sales data')\n",
    "plt.legend(['Facecream sales data', 'Facewash sales data'], loc = 2)\n",
    "plt.grid(linestyle = '--')\n",
    "plt.show()"
   ]
  },
  {
   "cell_type": "code",
   "execution_count": 115,
   "id": "3168cabe",
   "metadata": {},
   "outputs": [],
   "source": [
    "data.head(5)\n",
    "facecream = np.array(data[\"facecream\"])\n",
    "facewash = np.array(data[\"facewash\"])\t\n",
    "toothpaste = np.array(data[\"toothpaste\"])\t\n",
    "bathingsoap\t = np.array(data[\"bathingsoap\"])\n",
    "shampoo = np.array(data[\"shampoo\"])\n",
    "moisturizer = np.array(data[\"moisturizer\"])\n",
    "\n",
    "labels = ['facecream', 'facewash', 'toothpaste', 'bathingsoap', 'shampoo', 'moisturizer']\n",
    "plt.stackplot(np.arange(1, len(facecream) + 1), facecream, facewash, toothpaste, bathingsoap, shampoo, moisturizer, labels = labels)\n",
    "\n",
    "plt.xlabel('Month Number')\n",
    "plt.ylabel('Sales units in number')\n",
    "plt.title('All product sales data using stack plot')\n",
    "plt.legend(labels, loc = 2)\n",
    "plt.show()"
   ]
  },
  {
   "cell_type": "code",
   "execution_count": 132,
   "id": "8e630719",
   "metadata": {},
   "outputs": [],
   "source": [
    "facecream = np.array(data[\"facecream\"]).sum()\n",
    "facewash = np.array(data[\"facewash\"]).sum()\t\n",
    "toothpaste = np.array(data[\"toothpaste\"]).sum()\t\n",
    "bathingsoap\t = np.array(data[\"bathingsoap\"]).sum()\n",
    "shampoo = np.array(data[\"shampoo\"]).sum()\n",
    "moisturizer = np.array(data[\"moisturizer\"]).sum()\n",
    "\n",
    "x = [facecream, facewash, toothpaste, bathingsoap, shampoo, moisturizer]\n",
    "labels = ['facecream', 'facewash', 'toothpaste', 'bathingsoap', 'shampoo', 'moisturizer']\n",
    "plt.pie(x, labels = labels, autopct = '%0.1f%%', shadow = True, radius = 0.8)\n",
    "plt.legend(labels, loc = 2, bbox_to_anchor = (1.1, 1.05), fontsize = 7, borderaxespad = 0.3)\n",
    "plt.show()"
   ]
  }
 ],
 "metadata": {
  "kernelspec": {
   "display_name": "Python 3",
   "language": "python",
   "name": "python3"
  },
  "language_info": {
   "codemirror_mode": {
    "name": "ipython",
    "version": 3
   },
   "file_extension": ".py",
   "mimetype": "text/x-python",
   "name": "python",
   "nbconvert_exporter": "python",
   "pygments_lexer": "ipython3",
   "version": "3.8.8"
  },
  "toc": {
   "base_numbering": 1,
   "nav_menu": {},
   "number_sections": true,
   "sideBar": true,
   "skip_h1_title": false,
   "title_cell": "Table of Contents",
   "title_sidebar": "Contents",
   "toc_cell": false,
   "toc_position": {},
   "toc_section_display": true,
   "toc_window_display": false
  }
 },
 "nbformat": 4,
 "nbformat_minor": 5
}
