{
 "cells": [
  {
   "cell_type": "code",
   "execution_count": 83,
   "id": "e0e512d7",
   "metadata": {},
   "outputs": [
    {
     "name": "stdout",
     "output_type": "stream",
     "text": [
      "[15.662   7.6644] [ -6.2313 -12.8811]\n",
      "5\n",
      "[1 3 3 ... 3 1 3]\n"
     ]
    }
   ],
   "source": [
    "import numpy as np\n",
    "data = np.loadtxt('Lab4.dat')\n",
    "print(np.max(data, axis = 0), np.min(data, axis = 0))\n",
    "\n",
    "def kmeans(X, K) :\n",
    "    center_point = []\n",
    "    for i in range(K) :\n",
    "        point_x = np.random.uniform(np.min(data, axis = 0)[0], np.max(data, axis = 0)[0])\n",
    "        point_y = np.random.uniform(np.min(data, axis = 0)[1], np.max(data, axis = 0)[1])\n",
    "        center_point.append([point_x, point_y])\n",
    "    center_point = np.array(center_point)\n",
    "    cluter = np.zeros(X.shape[0]).astype(np.int32)\n",
    "    item = 5\n",
    "    while item > 0:\n",
    "        for i in range(X.shape[0]) :\n",
    "            distance = center_point\n",
    "            distance = np.sum(np.square(distance - X[i]), axis = 1)\n",
    "#             print(distance.shape)\n",
    "            cluter[i] = np.argmin(distance) + 1\n",
    "        New_center_point = np.zeros((4, 2))\n",
    "        for i in range(K) :\n",
    "            New_center_point[i][0] = np.mean(X[np.where(cluter == i + 1)][0])\n",
    "            New_center_point[i][1] = np.mean(X[np.where(cluter == i + 1)][1])\n",
    "#         print(New_center_point)\n",
    "        if (New_center_point - center_point < 1e3).all() :\n",
    "            break\n",
    "        else :\n",
    "            center_point = New_center_point\n",
    "            item -= 1\n",
    "    print(item)\n",
    "\n",
    "    return cluter, center_point\n",
    "cidx, ctrs = kmeans(data, 4)\n",
    "print(cidx)\n"
   ]
  }
 ],
 "metadata": {
  "kernelspec": {
   "display_name": "Python 3",
   "language": "python",
   "name": "python3"
  },
  "language_info": {
   "codemirror_mode": {
    "name": "ipython",
    "version": 3
   },
   "file_extension": ".py",
   "mimetype": "text/x-python",
   "name": "python",
   "nbconvert_exporter": "python",
   "pygments_lexer": "ipython3",
   "version": "3.8.8"
  },
  "toc": {
   "base_numbering": 1,
   "nav_menu": {},
   "number_sections": true,
   "sideBar": true,
   "skip_h1_title": false,
   "title_cell": "Table of Contents",
   "title_sidebar": "Contents",
   "toc_cell": false,
   "toc_position": {},
   "toc_section_display": true,
   "toc_window_display": false
  }
 },
 "nbformat": 4,
 "nbformat_minor": 5
}
