{
 "cells": [
  {
   "cell_type": "code",
   "execution_count": 50,
   "id": "e8c73eaa",
   "metadata": {},
   "outputs": [
    {
     "name": "stdout",
     "output_type": "stream",
     "text": [
      "Using matplotlib backend: Qt5Agg\n",
      "[2.9374290123456794, 4.88]\n"
     ]
    }
   ],
   "source": [
    "import numpy as np\n",
    "import matplotlib.pyplot as plt\n",
    "%matplotlib\n",
    "\n",
    "def P3_3():\n",
    "    data = np.loadtxt('data.txt')\n",
    "    \n",
    "    y, x = data[ : , 0], data[ : , 1]\n",
    "    a = np.mean(y) / np.mean(x)\n",
    "    b = y[0] - a * x[0]\n",
    "    \n",
    "    learning_rate = 0.0005\n",
    "    train_loss = []\n",
    "    n = data.shape[0]\n",
    "    mse_loss = 1000\n",
    "    best_param = [a, b]\n",
    "    \n",
    "    for epoch in range(200) :\n",
    "        #前向传播\n",
    "        y_pred = a * x + b\n",
    "        #计算loss及参数对loss的梯度值\n",
    "        loss = np.sum(np.square(y - y_pred)) / n\n",
    "        train_loss.append(np.log10(loss))\n",
    "        if loss > mse_loss :\n",
    "            mse_loss = loss\n",
    "            best_param = [a, b]\n",
    "        grad_a = np.sum(2 * (y - y_pred) * x) / (-n)\n",
    "        grad_b = np.sum(2 * (y - y_pred)) / (-n)\n",
    "        #更新参数\n",
    "        a -= learning_rate * grad_a\n",
    "        b -= learning_rate * grad_b\n",
    "\n",
    "    iterations = np.linspace(0, 200, len(train_loss))\n",
    "    plt.plot(iterations, train_loss, 'r')\n",
    "    plt.ylim(0, 2), plt.ylabel('Error.log10(e)')\n",
    "    plt.xlim(0, 200), plt.xlabel('Iterations')\n",
    "    plt.title('Training Error')\n",
    "    plt.grid()\n",
    "    plt.show()\n",
    "    return best_param\n",
    "\n",
    "print(P3_3())"
   ]
  },
  {
   "cell_type": "code",
   "execution_count": 49,
   "id": "2ed3b895",
   "metadata": {},
   "outputs": [
    {
     "name": "stdout",
     "output_type": "stream",
     "text": [
      "2 3 4 5 6 8 9 10 12 15 \n",
      "\n",
      "16 18 20 24 25 27 30 32 36 40 \n",
      "\n",
      "45 48 50 54 60 64 72 75 80 81 \n",
      "\n",
      "90 96 100 "
     ]
    }
   ],
   "source": [
    "def P3_1(N) :\n",
    "    if N <= 0:\n",
    "        return False\n",
    "    if N == 1 :\n",
    "        return True\n",
    "    if N % 5 == 0:\n",
    "        return P3_1(N / 5)\n",
    "    elif N % 3 == 0 :\n",
    "        return P3_1(N / 3)\n",
    "    elif N % 2 == 0:\n",
    "        return P3_1(N / 2)\n",
    "    return False\n",
    "count = 0\n",
    "for N in range(2, 101) :\n",
    "    if P3_1(N) :\n",
    "        count += 1\n",
    "        print(N, end = ' ')\n",
    "        if count % 10 == 0 :\n",
    "            print('\\n')\n",
    "def P3_2(nums) :\n",
    "    #快慢指针\n",
    "    fast, slow = 0, 0\n",
    "    for num in nums :\n",
    "        if num == 0 :\n",
    "            fast += 1\n",
    "        else :\n",
    "            nums[slow], nums[fast] = nums[fast], nums[slow]\n",
    "            slow += 1\n",
    "            fast += 1\n",
    "    return nums\n",
    "# print(f'input: [2,1,0,0,3], output : {P3_2([2,1,0,0,3])}')\n",
    "# print(f'input: [0,1,0,2,0], output : {P3_2([0,1,0,2,0])}')\n",
    "# print(f'input: [0], output : {P3_2([0])}')\n"
   ]
  },
  {
   "cell_type": "code",
   "execution_count": null,
   "id": "b0aa1f21",
   "metadata": {},
   "outputs": [],
   "source": []
  }
 ],
 "metadata": {
  "kernelspec": {
   "display_name": "Python 3",
   "language": "python",
   "name": "python3"
  },
  "language_info": {
   "codemirror_mode": {
    "name": "ipython",
    "version": 3
   },
   "file_extension": ".py",
   "mimetype": "text/x-python",
   "name": "python",
   "nbconvert_exporter": "python",
   "pygments_lexer": "ipython3",
   "version": "3.8.8"
  },
  "toc": {
   "base_numbering": 1,
   "nav_menu": {},
   "number_sections": true,
   "sideBar": true,
   "skip_h1_title": false,
   "title_cell": "Table of Contents",
   "title_sidebar": "Contents",
   "toc_cell": false,
   "toc_position": {},
   "toc_section_display": true,
   "toc_window_display": false
  }
 },
 "nbformat": 4,
 "nbformat_minor": 5
}
